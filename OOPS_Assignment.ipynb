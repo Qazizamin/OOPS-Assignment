{
 "cells": [
  {
   "cell_type": "markdown",
   "metadata": {},
   "source": [
    "# OOPS ASSIGNMENT\n",
    "## QAZI ZAMIN\n",
    "## PWSKILLS"
   ]
  },
  {
   "cell_type": "markdown",
   "metadata": {},
   "source": [
    "# Assignment Questions "
   ]
  },
  {
   "cell_type": "markdown",
   "metadata": {},
   "source": [
    "### Q1. What are the five key concepts of Object-Oriented Programming (OOP)?"
   ]
  },
  {
   "cell_type": "markdown",
   "metadata": {},
   "source": [
    "### The five key concepts of Object-Oriented Programming (OOP) are: 1. Encapsulation, 2. Abstraction, 3. Inheritance, 4. Polymorphism, 5. Composition.\n",
    "- 1. Encapsulation: This principle involves bundling the data (attributes) and methods (functions) that operate on the data into a single unit, known as an object. It restricts direct access to some of the object's components, which helps in preventing accidental modification and enforces a clear interface.\n",
    "\n",
    "- 2. Abstraction: Abstraction focuses on exposing only the essential features of an object while hiding the complex implementation details. This allows developers to interact with objects at a higher level without needing to understand all the underlying intricacies.\n",
    "\n",
    "- 3. Inheritance: Inheritance enables a new class (subclass or derived class) to inherit attributes and methods from an existing class (superclass or base class). This promotes code reusability and establishes a hierarchical relationship between classes.\n",
    "\n",
    "- 4. Polymorphism: Polymorphism allows objects of different classes to be treated as objects of a common superclass. It enables a single interface to represent different underlying forms (data types). This can be achieved through method overriding and method overloading.\n",
    "\n",
    "- 5. Composition: While sometimes considered a part of encapsulation, composition emphasizes building complex objects from simpler ones. Instead of inheriting from a class, a class can contain instances of other classes, allowing for greater flexibility and reusability."
   ]
  },
  {
   "cell_type": "markdown",
   "metadata": {},
   "source": [
    "### Q2.  Write a Python class for a `Car` with attributes for `make`, `model`, and `year`. Include a method to display the car's information."
   ]
  },
  {
   "cell_type": "code",
   "execution_count": 1,
   "metadata": {},
   "outputs": [],
   "source": [
    "class Car:\n",
    "    def __init__(self, make, model, year):\n",
    "        self.make = make\n",
    "        self.model = model\n",
    "        self.year = year\n",
    "\n",
    "    def display_info(self):\n",
    "        info = f\"Car Make: {self.make}\\nCar Model: {self.model}\\nCar Year: {self.year}\"\n",
    "\n",
    "        print(info)"
   ]
  },
  {
   "cell_type": "code",
   "execution_count": 2,
   "metadata": {},
   "outputs": [
    {
     "name": "stdout",
     "output_type": "stream",
     "text": [
      "Car Make: Toyota\n",
      "Car Model: Fortuner\n",
      "Car Year: 2023\n"
     ]
    }
   ],
   "source": [
    "my_car = Car('Toyota','Fortuner','2023')\n",
    "\n",
    "my_car.display_info()"
   ]
  },
  {
   "cell_type": "markdown",
   "metadata": {},
   "source": [
    "### Q3. Explain the difference between instance methods and class methods. Provide an example of each."
   ]
  },
  {
   "cell_type": "markdown",
   "metadata": {},
   "source": [
    "### Instance Methods\n",
    "- Instance methods are the most common type of method in a class. They operate on an instance of the class and can access instance-specific data. The first parameter is usually self, which refers to the instance calling the method.\n",
    "\n",
    "### Class Methods\n",
    "- Class methods are defined with the @classmethod decorator. They take cls as the first parameter, which refers to the class itself rather than an instance. Class methods are typically used for factory methods or to modify class-level data."
   ]
  },
  {
   "cell_type": "code",
   "execution_count": 3,
   "metadata": {},
   "outputs": [
    {
     "name": "stdout",
     "output_type": "stream",
     "text": [
      "Lion roars\n"
     ]
    }
   ],
   "source": [
    "### INSTANCE METHOD:\n",
    "\n",
    "class Animal:\n",
    "    def __init__(self, name):\n",
    "        self.name = name\n",
    "\n",
    "    def sound(self):\n",
    "        return f\"{self.name} roars\"\n",
    "    \n",
    "my_animal = Animal('Lion')\n",
    "\n",
    "print(my_animal.sound())"
   ]
  },
  {
   "cell_type": "code",
   "execution_count": 4,
   "metadata": {},
   "outputs": [
    {
     "name": "stdout",
     "output_type": "stream",
     "text": [
      "Canine\n"
     ]
    }
   ],
   "source": [
    "### Class Method:\n",
    "\n",
    "class Dog:\n",
    "    species = \"Canine\"\n",
    "\n",
    "    @classmethod\n",
    "    \n",
    "    def get_species(cls):\n",
    "        return cls.species\n",
    "    \n",
    "print(Dog.get_species())"
   ]
  },
  {
   "cell_type": "markdown",
   "metadata": {},
   "source": [
    "### Q4. How does Python implement method overloading? Give an example."
   ]
  },
  {
   "cell_type": "markdown",
   "metadata": {},
   "source": [
    "### In Python, method overloading\n",
    "- where multiple methods have the same name but different parameters.\n",
    "\n",
    "### Method Overloading Using Default Parameters:\n",
    "- You can define a method with default parameters, which allows you to call the method with varying numbers of arguments.\n",
    "\n",
    "### Method Overloading Using Variable-Length Arguments:\n",
    "- You can also use *args to accept a variable number of arguments."
   ]
  },
  {
   "cell_type": "code",
   "execution_count": 6,
   "metadata": {},
   "outputs": [
    {
     "name": "stdout",
     "output_type": "stream",
     "text": [
      "5\n",
      "15\n",
      "30\n"
     ]
    }
   ],
   "source": [
    "# Method Overloading Using Default Parameters\n",
    "\n",
    "class MathOPerations:\n",
    "    def add(self, a, b = 0, c = 0):\n",
    "        return a + b + c\n",
    "    \n",
    "math_op = MathOPerations()\n",
    "\n",
    "print(math_op.add(5))\n",
    "print(math_op.add(5,10))\n",
    "print(math_op.add(5,10,15))"
   ]
  },
  {
   "cell_type": "code",
   "execution_count": 7,
   "metadata": {},
   "outputs": [
    {
     "name": "stdout",
     "output_type": "stream",
     "text": [
      "6\n",
      "18\n",
      "36\n"
     ]
    }
   ],
   "source": [
    "# Method Overloading Using Variable-Length Arguments\n",
    "\n",
    "class MathOPerations:\n",
    "    def add(self, *args):\n",
    "        return sum(args)\n",
    "    \n",
    "\n",
    "math_op = MathOPerations()\n",
    "\n",
    "print(math_op.add(6))\n",
    "print(math_op.add(6,12))\n",
    "print(math_op.add(6,12,18))"
   ]
  },
  {
   "cell_type": "markdown",
   "metadata": {},
   "source": [
    "### Q5. What are the three types of access modifiers in Python? How are they denoted?"
   ]
  },
  {
   "cell_type": "markdown",
   "metadata": {},
   "source": [
    "### In Python, access modifiers are used to define the visibility or accessibility of class attributes and methods. There are three main types of access modifiers:\n",
    "\n",
    "- 1. Public: Public members (attributes and methods) are accessible from outside the class. They can be accessed by any code that has an instance of the class. \n",
    "- Denotation: Public members are defined without any special prefix.\n",
    "\n",
    "- 2. Protected: Protected members are intended to be accessed only within the class and by subclasses (derived classes). They are not meant to be accessed from outside the class hierarchy.\n",
    "- Denotation: Protected members are defined with a single underscore prefix (_).\n",
    "\n",
    "- 3. Private: Private members are intended to be accessed only within the class they are defined in. They are not accessible from outside the class or by subclasses.\n",
    "- Denotation: Private members are defined with a double underscore prefix (__).\n",
    "\n",
    "### below are the examples for PUBLIC, PROTECTED & PRIVATE access modifiers."
   ]
  },
  {
   "cell_type": "code",
   "execution_count": 8,
   "metadata": {},
   "outputs": [
    {
     "name": "stdout",
     "output_type": "stream",
     "text": [
      "Toyota Camry\n"
     ]
    }
   ],
   "source": [
    "# PUBLIC\n",
    "\n",
    "class Car:\n",
    "    def __init__(self, make, model):\n",
    "        self.make = make        # public attribute\n",
    "        self.model = model      # public attribute\n",
    "\n",
    "    def display_info(self):     # public method\n",
    "        return f\"{self.make} {self.model}\"\n",
    "    \n",
    "\n",
    "my_car = Car('Toyota','Camry')\n",
    "\n",
    "print(my_car.display_info())"
   ]
  },
  {
   "cell_type": "code",
   "execution_count": 9,
   "metadata": {},
   "outputs": [
    {
     "name": "stdout",
     "output_type": "stream",
     "text": [
      "Tesla Model S\n"
     ]
    }
   ],
   "source": [
    "# PROTECTED\n",
    "\n",
    "class Car:\n",
    "    def __init__(self, make, model):\n",
    "        self._make = make       # Protected attribute\n",
    "        self._model = model     # Protected attribute\n",
    "\n",
    "    def _display_info(self):        # Protected Method\n",
    "        return f\"{self._make} {self._model}\"\n",
    "    \n",
    "\n",
    "class EV(Car):\n",
    "    def display(self):\n",
    "        return self._display_info()\n",
    "    \n",
    "my_ev_car = EV('Tesla','Model S')\n",
    "\n",
    "print(my_ev_car.display())"
   ]
  },
  {
   "cell_type": "code",
   "execution_count": 11,
   "metadata": {},
   "outputs": [
    {
     "name": "stdout",
     "output_type": "stream",
     "text": [
      "Honda Civic\n"
     ]
    }
   ],
   "source": [
    "# PRIVATE\n",
    "\n",
    "class Car:\n",
    "    def __init__(self, make, model):\n",
    "        self.__make = make      # Private attribute\n",
    "        self.__model = model    # Private attribute\n",
    "\n",
    "    def __display_info(self):       # Private Method\n",
    "        return f\"{self.__make} {self.__model}\"\n",
    "    \n",
    "    def display(self): # Public method to access private info\n",
    "        return self.__display_info()\n",
    "    \n",
    "\n",
    "my_car = Car('Honda','Civic')\n",
    "\n",
    "print(my_car.display())"
   ]
  },
  {
   "cell_type": "markdown",
   "metadata": {},
   "source": [
    "### Q6. Describe the five types of inheritance in Python. Provide a simple example of multiple inheritance."
   ]
  },
  {
   "cell_type": "markdown",
   "metadata": {},
   "source": [
    "### inheritance :\n",
    "- allows a class (the derived or child class) to inherit attributes and methods from another class (the base or parent class). Here are five types of inheritance:\n",
    "\n",
    "### 1. Single Inheritance:\n",
    "- In single inheritance, a child class inherits from one parent class.\n",
    "\n",
    "### 2. Multiple Inheritance:\n",
    "- In multiple inheritance, a child class inherits from multiple parent classes.\n",
    "\n",
    "### 3. Multilevel Inheritance:\n",
    "- In multilevel inheritance, a class inherits from another class, which is also a derived class.\n",
    "\n",
    "### 4. Hierarchical Inheritance:\n",
    "- In hierarchical inheritance, multiple child classes inherit from a single parent class.\n",
    "\n",
    "### 5. Hybrid Inheritance:\n",
    "- Hybrid inheritance is a combination of two or more types of inheritance. It can involve multiple and multilevel inheritance together."
   ]
  },
  {
   "cell_type": "code",
   "execution_count": 12,
   "metadata": {},
   "outputs": [
    {
     "name": "stdout",
     "output_type": "stream",
     "text": [
      "Animal Speaks\n",
      "woof!\n"
     ]
    }
   ],
   "source": [
    "# Single Inheritance:\n",
    "\n",
    "class Animal:\n",
    "    def speak(self):\n",
    "        return 'Animal Speaks'\n",
    "    \n",
    "class Dog(Animal):\n",
    "    def bark(self):\n",
    "        return 'woof!'\n",
    "    \n",
    "\n",
    "dog = Dog()\n",
    "\n",
    "print(dog.speak())\n",
    "\n",
    "print(dog.bark())"
   ]
  },
  {
   "cell_type": "code",
   "execution_count": 14,
   "metadata": {},
   "outputs": [
    {
     "name": "stdout",
     "output_type": "stream",
     "text": [
      "Animal speaks\n",
      "Pet is playing\n",
      "woof!\n"
     ]
    }
   ],
   "source": [
    "# Multiple Inheritance:\n",
    "\n",
    "class Animal:\n",
    "    def speak(self):\n",
    "        return \"Animal speaks\"\n",
    "    \n",
    "class Pet:\n",
    "    def play(self):\n",
    "        return 'Pet is playing'\n",
    "    \n",
    "class Dog(Animal, Pet):\n",
    "    def bark(self):\n",
    "        return 'woof!'\n",
    "    \n",
    "\n",
    "dog = Dog()\n",
    "\n",
    "print(dog.speak())\n",
    "print(dog.play())\n",
    "print(dog.bark())"
   ]
  },
  {
   "cell_type": "code",
   "execution_count": 15,
   "metadata": {},
   "outputs": [
    {
     "name": "stdout",
     "output_type": "stream",
     "text": [
      "Animal speaks\n",
      "Woof!\n",
      "Puppy cries\n"
     ]
    }
   ],
   "source": [
    "# Multilevel Inheritance\n",
    "\n",
    "class Animal:\n",
    "    def speak(self):\n",
    "        return \"Animal speaks\"\n",
    "\n",
    "class Dog(Animal):\n",
    "    def bark(self):\n",
    "        return \"Woof!\"\n",
    "\n",
    "class Puppy(Dog):\n",
    "    def weep(self):\n",
    "        return \"Puppy cries\"\n",
    "\n",
    "\n",
    "puppy = Puppy()\n",
    "print(puppy.speak())  \n",
    "print(puppy.bark())   \n",
    "print(puppy.weep())   \n"
   ]
  },
  {
   "cell_type": "code",
   "execution_count": 17,
   "metadata": {},
   "outputs": [
    {
     "name": "stdout",
     "output_type": "stream",
     "text": [
      "Animal speaks\n",
      "Woof!\n",
      "Animal speaks\n",
      "Meow!\n"
     ]
    }
   ],
   "source": [
    "# Hierarchical Inheritance\n",
    "\n",
    "class Animal:\n",
    "    def speak(self):\n",
    "        return \"Animal speaks\"\n",
    "\n",
    "class Dog(Animal):\n",
    "    def bark(self):\n",
    "        return \"Woof!\"\n",
    "\n",
    "class Cat(Animal):\n",
    "    def meow(self):\n",
    "        return \"Meow!\"\n",
    "\n",
    "\n",
    "dog = Dog()\n",
    "cat = Cat()\n",
    "print(dog.speak())  \n",
    "print(dog.bark())   \n",
    "print(cat.speak())   \n",
    "print(cat.meow())    \n"
   ]
  },
  {
   "cell_type": "code",
   "execution_count": 18,
   "metadata": {},
   "outputs": [
    {
     "name": "stdout",
     "output_type": "stream",
     "text": [
      "Animal speaks\n",
      "Pet is playing\n",
      "Woof!\n",
      "Puppy cries\n"
     ]
    }
   ],
   "source": [
    "# Hybrid Inheritance\n",
    "\n",
    "class Animal:\n",
    "    def speak(self):\n",
    "        return \"Animal speaks\"\n",
    "\n",
    "class Pet:\n",
    "    def play(self):\n",
    "        return \"Pet is playing\"\n",
    "\n",
    "class Dog(Animal, Pet):\n",
    "    def bark(self):\n",
    "        return \"Woof!\"\n",
    "\n",
    "class Puppy(Dog):\n",
    "    def weep(self):\n",
    "        return \"Puppy cries\"\n",
    "\n",
    "# Usage\n",
    "puppy = Puppy()\n",
    "print(puppy.speak())  \n",
    "print(puppy.play())   \n",
    "print(puppy.bark())   \n",
    "print(puppy.weep())   \n"
   ]
  },
  {
   "cell_type": "markdown",
   "metadata": {},
   "source": [
    "### Q7. What is the Method Resolution Order (MRO) in Python? How can you retrieve it programmatically?"
   ]
  },
  {
   "cell_type": "markdown",
   "metadata": {},
   "source": [
    "### Method Resolution Order (MRO):\n",
    "-  in Python is the order in which classes are looked up when searching for a method or attribute. This is particularly important in the context of inheritance, especially with multiple inheritance, where the same method might exist in more than one parent class.\n",
    "\n",
    "### How MRO Works?\n",
    "- Python uses the C3 linearization algorithm to determine the MRO. The MRO ensures that:\n",
    "\n",
    "- A class is always looked up before its parents.\n",
    "- A parent class is only looked up after its preceding siblings.\n",
    "- The method resolution order is consistent and predictable."
   ]
  },
  {
   "cell_type": "markdown",
   "metadata": {},
   "source": [
    "### Example of MRO:"
   ]
  },
  {
   "cell_type": "code",
   "execution_count": 19,
   "metadata": {},
   "outputs": [
    {
     "name": "stdout",
     "output_type": "stream",
     "text": [
      "[<class '__main__.D'>, <class '__main__.B'>, <class '__main__.C'>, <class '__main__.A'>, <class 'object'>]\n"
     ]
    }
   ],
   "source": [
    "class A:\n",
    "    pass\n",
    "\n",
    "class B(A):\n",
    "    pass\n",
    "\n",
    "class C(A):\n",
    "    pass\n",
    "\n",
    "class D(B, C):\n",
    "    pass\n",
    "\n",
    "# Usage\n",
    "print(D.mro())"
   ]
  },
  {
   "cell_type": "markdown",
   "metadata": {},
   "source": [
    "- This output indicates that when searching for a method in class D, Python will look first in D, then in B, followed by C, then A, and finally the base class object."
   ]
  },
  {
   "cell_type": "markdown",
   "metadata": {},
   "source": [
    "### Retrieving MRO Programmatically:\n",
    "- You can retrieve the MRO of a class using the mro() method or the __mro__ attribute.\n",
    "\n",
    "### Below is the example:"
   ]
  },
  {
   "cell_type": "markdown",
   "metadata": {},
   "source": [
    "### USING mro() METHOD:"
   ]
  },
  {
   "cell_type": "code",
   "execution_count": 20,
   "metadata": {},
   "outputs": [
    {
     "name": "stdout",
     "output_type": "stream",
     "text": [
      "[<class '__main__.D'>, <class '__main__.B'>, <class '__main__.C'>, <class '__main__.A'>, <class 'object'>]\n"
     ]
    }
   ],
   "source": [
    "print(D.mro())"
   ]
  },
  {
   "cell_type": "markdown",
   "metadata": {},
   "source": [
    "### USING __mro__ ATTRIBUTE:"
   ]
  },
  {
   "cell_type": "code",
   "execution_count": 21,
   "metadata": {},
   "outputs": [
    {
     "name": "stdout",
     "output_type": "stream",
     "text": [
      "(<class '__main__.D'>, <class '__main__.B'>, <class '__main__.C'>, <class '__main__.A'>, <class 'object'>)\n"
     ]
    }
   ],
   "source": [
    "print(D.__mro__)"
   ]
  },
  {
   "cell_type": "markdown",
   "metadata": {},
   "source": [
    "### In Brief:\n",
    "- MRO determines the order in which classes are searched for methods and attributes.\n",
    "- Python uses the C3 linearization algorithm to calculate the MRO.\n",
    "- You can retrieve the MRO programmatically using the mro() method or the __mro__ attribute."
   ]
  },
  {
   "cell_type": "markdown",
   "metadata": {},
   "source": [
    "### Q8. Create an abstract base class `Shape` with an abstract method `area()`. Then create two subclasses `Circle` and `Rectangle` that implement the `area()` method."
   ]
  },
  {
   "cell_type": "code",
   "execution_count": 23,
   "metadata": {},
   "outputs": [
    {
     "name": "stdout",
     "output_type": "stream",
     "text": [
      "area of circle 78.54\n",
      "area of rectangle 24.00\n"
     ]
    }
   ],
   "source": [
    "from abc import ABC, abstractmethod\n",
    "import math\n",
    "\n",
    "class Shape(ABC):\n",
    "    @abstractmethod\n",
    "    def area(self):\n",
    "        pass\n",
    "\n",
    "class Circle(Shape):\n",
    "    def __init__(self, radius):\n",
    "        self.radius = radius\n",
    "\n",
    "    def area(self):\n",
    "        return math.pi * (self.radius ** 2)\n",
    "    \n",
    "class Rectangle(Shape):\n",
    "    def __init__(self, width, height):\n",
    "        self.width = width\n",
    "        self.height = height\n",
    "        \n",
    "    def area(self):\n",
    "        return self.width * self.height\n",
    "    \n",
    "\n",
    "\n",
    "circle = Circle(5)\n",
    "rect = Rectangle(4,6)\n",
    "\n",
    "print(f\"area of circle {circle.area():.2f}\")\n",
    "print(f\"area of rectangle {rect.area():.2f}\")"
   ]
  },
  {
   "cell_type": "markdown",
   "metadata": {},
   "source": [
    "### Q9. Demonstrate polymorphism by creating a function that can work with different shape objects to calculate and print their areas."
   ]
  },
  {
   "cell_type": "code",
   "execution_count": 24,
   "metadata": {},
   "outputs": [
    {
     "name": "stdout",
     "output_type": "stream",
     "text": [
      "Area: 153.94\n",
      "Area: 54.00\n"
     ]
    }
   ],
   "source": [
    "from abc import ABC, abstractmethod\n",
    "import math\n",
    "\n",
    "class Shape(ABC):\n",
    "    @abstractmethod\n",
    "    def area(self):\n",
    "        pass\n",
    "\n",
    "# circle subclass\n",
    "\n",
    "class Circle(Shape):\n",
    "    def __init__(self, radius):\n",
    "        self.radius = radius\n",
    "\n",
    "    def area(self):\n",
    "        return math.pi *(self.radius**2)\n",
    "    \n",
    "# rectangle subclass\n",
    "\n",
    "class Rectangle(Shape):\n",
    "    def __init__(self, width, height):\n",
    "        self.width = width\n",
    "        self.height = height\n",
    "\n",
    "    def area(self):\n",
    "        return self.width*self.height\n",
    "    \n",
    "# Function to calculate and priint area\n",
    "\n",
    "def print_area(shape: Shape):\n",
    "    print(f\"Area: {shape.area():.2f}\")\n",
    "\n",
    "\n",
    "\n",
    "circle = Circle(7)\n",
    "rectangle = Rectangle(6,9)\n",
    "\n",
    "print_area(circle)\n",
    "print_area(rectangle)"
   ]
  },
  {
   "cell_type": "markdown",
   "metadata": {},
   "source": [
    "### Q10. Implement encapsulation in a `BankAccount` class with private attributes for `balance` and `account_number`. Include methods for deposit, withdrawal, and balance inquiry."
   ]
  },
  {
   "cell_type": "code",
   "execution_count": 25,
   "metadata": {},
   "outputs": [
    {
     "name": "stdout",
     "output_type": "stream",
     "text": [
      "Deposited: $500.00. New balance: $1500.00\n",
      "Withdrew: $200.00. New balance: $1300.00\n",
      "Account Balance: $1300.00\n",
      "Account Number: 123456789\n"
     ]
    }
   ],
   "source": [
    "class BankAccount:\n",
    "    def __init__(self, account_number, initial_balance=0):\n",
    "        self.__account_number = account_number  # Private attribute\n",
    "        self.__balance = initial_balance          # Private attribute\n",
    "\n",
    "# DEPOSIT\n",
    "    def deposit(self, amount):\n",
    "        \"\"\"Deposit money into the account.\"\"\"\n",
    "        if amount > 0:\n",
    "            self.__balance += amount\n",
    "            print(f\"Deposited: ${amount:.2f}. New balance: ${self.__balance:.2f}\")\n",
    "        else:\n",
    "            print(\"Deposit amount must be positive.\")\n",
    "\n",
    "# Withdrawal\n",
    "    def withdraw(self, amount):\n",
    "        \"\"\"Withdraw money from the account.\"\"\"\n",
    "        if 0 < amount <= self.__balance:\n",
    "            self.__balance -= amount\n",
    "            print(f\"Withdrew: ${amount:.2f}. New balance: ${self.__balance:.2f}\")\n",
    "        elif amount > self.__balance:\n",
    "            print(\"Insufficient funds for withdrawal.\")\n",
    "        else:\n",
    "            print(\"Withdrawal amount must be positive.\")\n",
    "\n",
    "# BALANCE\n",
    "    def get_balance(self):\n",
    "        \"\"\"Return the current balance.\"\"\"\n",
    "        return self.__balance\n",
    "\n",
    "    def get_account_number(self):\n",
    "        \"\"\"Return the account number.\"\"\"\n",
    "        return self.__account_number\n",
    "\n",
    "# Example usage\n",
    "account = BankAccount(\"123456789\", 1000)\n",
    "account.deposit(500)        # Deposited: $500. New balance: $1500.00\n",
    "account.withdraw(200)       # Withdrew: $200. New balance: $1300.00\n",
    "print(f\"Account Balance: ${account.get_balance():.2f}\")  # Account Balance: $1300.00\n",
    "print(f\"Account Number: {account.get_account_number()}\")  # Account Number: 123456789\n"
   ]
  },
  {
   "cell_type": "markdown",
   "metadata": {},
   "source": [
    "### Q11. Write a class that overrides the `__str__` and `__add__` magic methods. What will these methods allow you to do?"
   ]
  },
  {
   "cell_type": "code",
   "execution_count": 2,
   "metadata": {},
   "outputs": [
    {
     "name": "stdout",
     "output_type": "stream",
     "text": [
      "Vector(2, 3)\n",
      "Vector(6, 8)\n"
     ]
    }
   ],
   "source": [
    "class Vector:\n",
    "    def __init__(self, x, y):\n",
    "        self.x = x\n",
    "        self.y = y\n",
    "\n",
    "    def __str__(self):\n",
    "        \"\"\"Return a string representation of the vector.\"\"\"\n",
    "        return f\"Vector({self.x}, {self.y})\"\n",
    "\n",
    "    def __add__(self, other):\n",
    "        \"\"\"Add two vectors together.\"\"\"\n",
    "        if isinstance(other, Vector):\n",
    "            return Vector(self.x + other.x, self.y + other.y)\n",
    "        return NotImplemented\n",
    "\n",
    "# Example usage:\n",
    "v1 = Vector(2, 3)\n",
    "v2 = Vector(4, 5)\n",
    "\n",
    "# Using the __str__ method\n",
    "print(v1)  # Output: Vector(2, 3)\n",
    "\n",
    "# Using the __add__ method\n",
    "v3 = v1 + v2\n",
    "print(v3)  # Output: Vector(6, 8)"
   ]
  },
  {
   "cell_type": "markdown",
   "metadata": {},
   "source": [
    "### Q12. Create a decorator that measures and prints the execution time of a function."
   ]
  },
  {
   "cell_type": "code",
   "execution_count": 1,
   "metadata": {},
   "outputs": [
    {
     "name": "stdout",
     "output_type": "stream",
     "text": [
      "Execution time: 0.0391 seconds\n"
     ]
    },
    {
     "data": {
      "text/plain": [
       "499999500000"
      ]
     },
     "execution_count": 1,
     "metadata": {},
     "output_type": "execute_result"
    }
   ],
   "source": [
    "import time\n",
    "\n",
    "def execution_time_decorator(func):\n",
    "    def wrapper(*args, **kwargs):\n",
    "        start_time = time.time()\n",
    "        result = func(*args, **kwargs)\n",
    "        end_time = time.time()\n",
    "        print(f\"Execution time: {end_time - start_time:.4f} seconds\")\n",
    "        return result\n",
    "    return wrapper\n",
    "\n",
    "# Example usage\n",
    "@execution_time_decorator\n",
    "def example_function(n):\n",
    "    return sum(range(n))\n",
    "\n",
    "# Call the decorated function\n",
    "example_function(1000000)\n"
   ]
  },
  {
   "cell_type": "markdown",
   "metadata": {},
   "source": [
    "### Q13.  Explain the concept of the Diamond Problem in multiple inheritance. How does Python resolve it?"
   ]
  },
  {
   "cell_type": "markdown",
   "metadata": {},
   "source": [
    "### The Diamond Problem: \n",
    "- arises in the context of multiple inheritance when a class inherits from two classes that both inherit from a common superclass. This creates a diamond-shaped inheritance structure, which can lead to ambiguity in method resolution."
   ]
  },
  {
   "cell_type": "code",
   "execution_count": null,
   "metadata": {},
   "outputs": [],
   "source": [
    "      A\n",
    "     / \\\n",
    "    B   C\n",
    "     \\ /\n",
    "      D\n"
   ]
  },
  {
   "cell_type": "markdown",
   "metadata": {},
   "source": [
    "### Illustration of the Diamond Problem\n",
    "- Consider the following class hierarchy:\n",
    "\n",
    "- Class A is the superclass.\n",
    "- Classes B and C inherit from A.\n",
    "- Class D inherits from both B and C."
   ]
  },
  {
   "cell_type": "markdown",
   "metadata": {},
   "source": [
    "### How Python Resolves the Diamond Problem\n",
    "\n",
    "- Python uses the Method Resolution Order (MRO) to resolve which method to call in cases of multiple inheritance. The MRO determines the order in which classes are searched when calling a method or accessing an attribute."
   ]
  },
  {
   "cell_type": "markdown",
   "metadata": {},
   "source": [
    "### Q14. Write a class method that keeps track of the number of instances created from a class."
   ]
  },
  {
   "cell_type": "code",
   "execution_count": 3,
   "metadata": {},
   "outputs": [
    {
     "name": "stdout",
     "output_type": "stream",
     "text": [
      "3\n"
     ]
    }
   ],
   "source": [
    "class InstanceCounter:\n",
    "    instance_count = 0  # Class variable to track the number of instances\n",
    "\n",
    "    def __init__(self):\n",
    "        InstanceCounter.instance_count += 1  # Increment the count on instance creation\n",
    "\n",
    "    @classmethod\n",
    "    def get_instance_count(cls):\n",
    "        \"\"\"Class method to return the number of instances created.\"\"\"\n",
    "        return cls.instance_count\n",
    "\n",
    "# Example usage\n",
    "a = InstanceCounter()\n",
    "b = InstanceCounter()\n",
    "c = InstanceCounter()\n",
    "\n",
    "# Get the count of instances created\n",
    "print(InstanceCounter.get_instance_count()) "
   ]
  },
  {
   "cell_type": "markdown",
   "metadata": {},
   "source": [
    "### Q15. Implement a static method in a class that checks if a given year is a leap year."
   ]
  },
  {
   "cell_type": "code",
   "execution_count": 4,
   "metadata": {},
   "outputs": [
    {
     "name": "stdout",
     "output_type": "stream",
     "text": [
      "2024 is a leap year.\n",
      "1900 is not a leap year.\n"
     ]
    }
   ],
   "source": [
    "class Year:\n",
    "    @staticmethod\n",
    "    def is_leap_year(year):\n",
    "        \"\"\"Check if a given year is a leap year.\"\"\"\n",
    "        if (year % 4 == 0 and year % 100 != 0) or (year % 400 == 0):\n",
    "            return True\n",
    "        return False\n",
    "\n",
    "# Example usage\n",
    "year_to_check = 2024\n",
    "if Year.is_leap_year(year_to_check):\n",
    "    print(f\"{year_to_check} is a leap year.\")\n",
    "else:\n",
    "    print(f\"{year_to_check} is not a leap year.\")\n",
    "\n",
    "# Checking another year\n",
    "year_to_check = 1900\n",
    "if Year.is_leap_year(year_to_check):\n",
    "    print(f\"{year_to_check} is a leap year.\")\n",
    "else:\n",
    "    print(f\"{year_to_check} is not a leap year.\")\n"
   ]
  },
  {
   "cell_type": "markdown",
   "metadata": {},
   "source": []
  }
 ],
 "metadata": {
  "kernelspec": {
   "display_name": "venv",
   "language": "python",
   "name": "python3"
  },
  "language_info": {
   "codemirror_mode": {
    "name": "ipython",
    "version": 3
   },
   "file_extension": ".py",
   "mimetype": "text/x-python",
   "name": "python",
   "nbconvert_exporter": "python",
   "pygments_lexer": "ipython3",
   "version": "3.11.9"
  }
 },
 "nbformat": 4,
 "nbformat_minor": 2
}
